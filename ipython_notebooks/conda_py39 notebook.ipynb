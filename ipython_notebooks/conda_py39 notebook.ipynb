{
  "metadata": {
    "kernelspec": {
      "name": "py-dku-venv-conda_py39",
      "display_name": "Python (env conda_py39)",
      "language": "python"
    },
    "creator": "admin",
    "createdOn": 1682369466105,
    "tags": [],
    "customFields": {},
    "hide_input": false,
    "language_info": {
      "name": "python",
      "version": "3.9.15",
      "mimetype": "text/x-python",
      "codemirror_mode": {
        "name": "ipython",
        "version": 3
      },
      "pygments_lexer": "ipython3",
      "nbconvert_exporter": "python",
      "file_extension": ".py"
    },
    "modifiedBy": "admin"
  },
  "nbformat": 4,
  "nbformat_minor": 1,
  "cells": [
    {
      "execution_count": 0,
      "cell_type": "code",
      "metadata": {},
      "source": [
        "%pylab inline"
      ],
      "outputs": []
    },
    {
      "execution_count": 0,
      "cell_type": "code",
      "metadata": {},
      "source": [
        "import dataiku\nfrom dataiku import pandasutils as pdu\nimport pandas as pd"
      ],
      "outputs": []
    },
    {
      "execution_count": 0,
      "cell_type": "code",
      "metadata": {},
      "source": [
        "from cmdstanpy import cmdstan_path, CmdStanModel\n# import cmdstanpy"
      ],
      "outputs": []
    },
    {
      "execution_count": 0,
      "cell_type": "code",
      "metadata": {},
      "source": [
        "posterior \u003d CmdStanModel(stan_file \u003d \"/home/centos/dina_independent.stan\")"
      ],
      "outputs": []
    },
    {
      "execution_count": 0,
      "cell_type": "code",
      "metadata": {},
      "source": [
        "import os, os.path\nprint(\"\u003d\u003d\u003d\u003d DEBUG: ENVIRONMENT\")\nfor v in sorted(os.environ):\n    print(v + \" \u003d\u003e \" + os.environ[v])\nprint(\"\u003d\u003d\u003d\u003d CMDSTAN_DIR: \" + os.path.expanduser(os.path.join(\u0027~\u0027, \u0027.cmdstan\u0027)))"
      ],
      "outputs": []
    },
    {
      "execution_count": 0,
      "cell_type": "code",
      "metadata": {},
      "source": [
        "import os\nos.environ[\u0027PATH\u0027] \u003d os.environ[\u0027CONDA_DEFAULT_ENV\u0027] + \"/bin:\" + os.environ[\u0027PATH\u0027]"
      ],
      "outputs": []
    },
    {
      "execution_count": 0,
      "cell_type": "code",
      "metadata": {},
      "source": [
        "import os, os.path\nprint(\"\u003d\u003d\u003d\u003d DEBUG: ENVIRONMENT\")\nfor v in sorted(os.environ):\n    print(v + \" \u003d\u003e \" + os.environ[v])\n    \nprint(\"\u003d\u003d\u003d\u003d CMDSTAN_DIR: \" + os.path.expanduser(os.path.j\n                                                oin(\u0027~\u0027, \u0027.cmdstan\u0027)))"
      ],
      "outputs": []
    }
  ]
}