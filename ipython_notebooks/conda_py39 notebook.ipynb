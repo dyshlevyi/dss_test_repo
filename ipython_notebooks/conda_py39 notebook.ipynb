{
  "metadata": {
    "kernelspec": {
      "name": "py-dku-venv-conda_py39",
      "display_name": "Python (env conda_py39)",
      "language": "python"
    },
    "creator": "admin",
    "createdOn": 1682369466105,
    "tags": [],
    "customFields": {},
    "hide_input": false,
    "language_info": {
      "name": "python",
      "version": "3.9.16",
      "mimetype": "text/x-python",
      "codemirror_mode": {
        "name": "ipython",
        "version": 3
      },
      "pygments_lexer": "ipython3",
      "nbconvert_exporter": "python",
      "file_extension": ".py"
    },
    "modifiedBy": "admin"
  },
  "nbformat": 4,
  "nbformat_minor": 1,
  "cells": [
    {
      "execution_count": 0,
      "cell_type": "code",
      "metadata": {},
      "source": [
        "%pylab inline"
      ],
      "outputs": []
    },
    {
      "execution_count": 0,
      "cell_type": "code",
      "metadata": {},
      "source": [
        "import dataiku\nfrom dataiku import pandasutils as pdu\nimport pandas as pd"
      ],
      "outputs": []
    },
    {
      "execution_count": 0,
      "cell_type": "code",
      "metadata": {},
      "source": [
        "from cmdstanpy import cmdstan_path, set_cmdstan_path, CmdStanModel\n# import cmdstanpy"
      ],
      "outputs": []
    },
    {
      "execution_count": 0,
      "cell_type": "code",
      "metadata": {},
      "source": [
        "set_cmdstan_path(\"/home/centos/dss/code-envs/python/conda_py39/bin/cmdstan\")\ncmdstan_path()"
      ],
      "outputs": []
    },
    {
      "execution_count": 0,
      "cell_type": "code",
      "metadata": {},
      "source": [
        "posterior \u003d CmdStanModel(stan_file \u003d \"/home/dssuser_admin/.cmdstan/cmdstan-2.32.0/example-models/education/dina_independent/dina_independent.stan\")"
      ],
      "outputs": []
    },
    {
      "execution_count": 0,
      "cell_type": "code",
      "metadata": {},
      "source": [
        "!gcc --version"
      ],
      "outputs": []
    },
    {
      "execution_count": 0,
      "cell_type": "code",
      "metadata": {},
      "source": [
        "import anarci"
      ],
      "outputs": []
    },
    {
      "execution_count": 0,
      "cell_type": "code",
      "metadata": {},
      "source": [
        ""
      ],
      "outputs": []
    }
  ]
}