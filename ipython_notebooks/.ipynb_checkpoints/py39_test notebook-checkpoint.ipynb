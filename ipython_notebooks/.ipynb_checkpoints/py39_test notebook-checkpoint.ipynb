{
  "metadata": {
    "kernelspec": {
      "name": "py-dku-venv-py39_test",
      "display_name": "Python (env py39_test)",
      "language": "python"
    },
    "creator": "admin",
    "createdOn": 1683126636047,
    "tags": [],
    "customFields": {},
    "hide_input": false,
    "language_info": {
      "name": "python",
      "version": "3.9.12",
      "mimetype": "text/x-python",
      "codemirror_mode": {
        "name": "ipython",
        "version": 3
      },
      "pygments_lexer": "ipython3",
      "nbconvert_exporter": "python",
      "file_extension": ".py"
    },
    "modifiedBy": "admin"
  },
  "nbformat": 4,
  "nbformat_minor": 1,
  "cells": [
    {
      "execution_count": 0,
      "cell_type": "code",
      "metadata": {},
      "source": [
        "%pylab inline"
      ],
      "outputs": []
    },
    {
      "execution_count": 0,
      "cell_type": "code",
      "metadata": {},
      "source": [
        "import dataiku\nfrom dataiku import pandasutils as pdu\nimport pandas as pd"
      ],
      "outputs": []
    },
    {
      "execution_count": 0,
      "cell_type": "code",
      "metadata": {},
      "source": [
        "import dataiku\nfrom dataiku import pandasutils as pdu\nimport pandas as pd\nimport numpy as np\nimport lightgbm as lgb\nfrom sklearn.tree import DecisionTreeClassifier\nfrom sklearn.ensemble import RandomForestClassifier\nfrom sklearn.model_selection import  GridSearchCV\nfrom sklearn.metrics import precision_score, recall_score, f1_score, roc_curve, cohen_kappa_score, roc_auc_score, accuracy_score, classification_report, auc, confusion_matrix\nfrom sklearn.model_selection import train_test_split\nfrom sklearn.preprocessing import  LabelBinarizer"
      ],
      "outputs": []
    },
    {
      "execution_count": 0,
      "cell_type": "code",
      "metadata": {},
      "source": [
        "import cmdstanpy \nfrom cmdstanpy import cmdstan_path, CmdStanModel, set_cmdstan_path"
      ],
      "outputs": []
    },
    {
      "execution_count": 0,
      "cell_type": "code",
      "metadata": {},
      "source": [
        "# set_cmdstan_path(\"/tmp\")\ncmdstanpy.install_cmdstan(overwrite\u003dTrue)"
      ],
      "outputs": []
    },
    {
      "execution_count": 0,
      "cell_type": "code",
      "metadata": {},
      "source": [
        "!find / -name install_cmdstan"
      ],
      "outputs": []
    },
    {
      "execution_count": 0,
      "cell_type": "code",
      "metadata": {},
      "source": [
        "!mkdir /home/dataiku/.cmdstan\n!/opt/dataiku/code-env/bin/install_cmdstan -d /home/dataiku/.cmdstan --verbose"
      ],
      "outputs": []
    },
    {
      "execution_count": 0,
      "cell_type": "code",
      "metadata": {},
      "source": [
        "client \u003d dataiku.api_client()\nproject \u003d client.get_project(\"CUSTOMERSCASES\")\nproject.get_dataset(\"auto_data_parquet_prepared\")\n"
      ],
      "outputs": []
    },
    {
      "execution_count": 0,
      "cell_type": "code",
      "metadata": {},
      "source": [
        "import dataiku\nfrom dataiku import pandasutils as pdu\nimport pandas as pd\ndataset \u003d dataiku.Dataset(\"auto_data_parquet_prepared\")\n# df \u003d dataset.get_dataframe()\ndataset.get_dataframe(sampling\u003d\u0027head\u0027, limit\u003d100)"
      ],
      "outputs": []
    },
    {
      "execution_count": 0,
      "cell_type": "code",
      "metadata": {},
      "source": [
        "import ctypes\nfrom comtypes import c_double, c_short, client"
      ],
      "outputs": []
    },
    {
      "execution_count": 0,
      "cell_type": "code",
      "metadata": {},
      "source": [
        ""
      ],
      "outputs": []
    }
  ]
}