{
  "metadata": {
    "kernelspec": {
      "name": "py-dku-containerized-venv-py39_test-docker-base",
      "display_name": "Python in docker-base (env py39_test)",
      "language": "python"
    },
    "creator": "admin",
    "createdOn": 1683126636047,
    "tags": [],
    "customFields": {},
    "hide_input": false,
    "language_info": {
      "name": "python",
      "version": "3.9.16",
      "mimetype": "text/x-python",
      "codemirror_mode": {
        "name": "ipython",
        "version": 3
      },
      "pygments_lexer": "ipython3",
      "nbconvert_exporter": "python",
      "file_extension": ".py"
    },
    "modifiedBy": "admin"
  },
  "nbformat": 4,
  "nbformat_minor": 1,
  "cells": [
    {
      "execution_count": 0,
      "cell_type": "code",
      "metadata": {},
      "source": [
        "%pylab inline"
      ],
      "outputs": []
    },
    {
      "execution_count": 0,
      "cell_type": "code",
      "metadata": {},
      "source": [
        "import dataiku\nfrom dataiku import pandasutils as pdu\nimport pandas as pd"
      ],
      "outputs": []
    },
    {
      "execution_count": 0,
      "cell_type": "code",
      "metadata": {},
      "source": [
        "import dataiku\nfrom dataiku import pandasutils as pdu\nimport pandas as pd\nimport numpy as np\nimport lightgbm as lgb\nfrom sklearn.tree import DecisionTreeClassifier\nfrom sklearn.ensemble import RandomForestClassifier\nfrom sklearn.model_selection import  GridSearchCV\nfrom sklearn.metrics import precision_score, recall_score, f1_score, roc_curve, cohen_kappa_score, roc_auc_score, accuracy_score, classification_report, auc, confusion_matrix\nfrom sklearn.model_selection import train_test_split\nfrom sklearn.preprocessing import  LabelBinarizer"
      ],
      "outputs": []
    },
    {
      "execution_count": 0,
      "cell_type": "code",
      "metadata": {},
      "source": [
        "import cmdstanpy \nfrom cmdstanpy import cmdstan_path, CmdStanModel, set_cmdstan_path"
      ],
      "outputs": []
    },
    {
      "execution_count": 0,
      "cell_type": "code",
      "metadata": {},
      "source": [
        "# set_cmdstan_path(\"/home/dataiku/.cmdstan\")\ncmdstanpy.install_cmdstan(\"/home/dataiku/.cmdstan\")"
      ],
      "outputs": []
    },
    {
      "execution_count": 0,
      "cell_type": "code",
      "metadata": {},
      "source": [
        ""
      ],
      "outputs": []
    }
  ]
}