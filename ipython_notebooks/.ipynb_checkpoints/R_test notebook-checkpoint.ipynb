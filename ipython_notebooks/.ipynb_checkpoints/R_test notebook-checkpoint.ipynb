{
  "metadata": {
    "kernelspec": {
      "display_name": "R (env R_test)",
      "language": "R",
      "name": "r-dku-venv-r_test"
    },
    "creator": "admin",
    "createdOn": 1674082760343,
    "tags": [],
    "customFields": {}
  },
  "nbformat": 4,
  "nbformat_minor": 0,
  "cells": [
    {
      "execution_count": 0,
      "cell_type": "code",
      "metadata": {},
      "source": [
        "library(dataiku)"
      ],
      "outputs": []
    },
    {
      "execution_count": 0,
      "cell_type": "code",
      "metadata": {},
      "source": [
        "# Example: load a DSS dataset as a R dataframe\n",
        "mydataset \u003c- dkuReadDataset(\"mydataset\", samplingMethod\u003d\"head\", nbRows\u003d100000)"
      ],
      "outputs": []
    },
    {
      "execution_count": 0,
      "cell_type": "code",
      "metadata": {},
      "source": [],
      "outputs": []
    }
  ]
}