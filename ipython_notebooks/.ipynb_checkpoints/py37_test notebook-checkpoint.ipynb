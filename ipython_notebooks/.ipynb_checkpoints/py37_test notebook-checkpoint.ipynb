{
  "metadata": {
    "kernelspec": {
      "name": "py-dku-venv-py37_test",
      "display_name": "Python (env py37_test)",
      "language": "python"
    },
    "creator": "admin",
    "createdOn": 1673703324805,
    "tags": [],
    "customFields": {},
    "hide_input": false,
    "modifiedBy": "admin",
    "language_info": {
      "name": "python",
      "version": "3.7.12",
      "mimetype": "text/x-python",
      "codemirror_mode": {
        "name": "ipython",
        "version": 3
      },
      "pygments_lexer": "ipython3",
      "nbconvert_exporter": "python",
      "file_extension": ".py"
    }
  },
  "nbformat": 4,
  "nbformat_minor": 1,
  "cells": [
    {
      "execution_count": 0,
      "cell_type": "code",
      "metadata": {},
      "source": [
        "%pylab inline"
      ],
      "outputs": []
    },
    {
      "execution_count": 0,
      "cell_type": "code",
      "metadata": {},
      "source": [
        "import dataiku\nfrom dataiku import pandasutils as pdu\nimport pandas as pd"
      ],
      "outputs": []
    },
    {
      "execution_count": 0,
      "cell_type": "code",
      "metadata": {},
      "source": [
        "# Example: load a DSS dataset as a Pandas dataframe\nmydataset \u003d dataiku.Dataset(\"mydataset\")\nmydataset_df \u003d mydataset.get_dataframe()"
      ],
      "outputs": []
    },
    {
      "execution_count": 0,
      "cell_type": "code",
      "metadata": {},
      "source": [
        "import torch.neuron"
      ],
      "outputs": []
    },
    {
      "execution_count": 0,
      "cell_type": "code",
      "metadata": {},
      "source": [
        "import dataiku\n\n# client initialization:\nclient \u003d dataiku.api_client()\nproject \u003d client.get_project(\u0027CUSTOMERCASES\u0027)\n\n# printing globally defined python code env\nprint(\"Project globally has\", project.get_settings().get_raw()[\"settings\"][\"codeEnvs\"][\"python\"][\"mode\"], \"code env\")\n\nfor recipe in project.list_recipes():\n    if recipe.type \u003d\u003d \u0027python\u0027:\n        recipe_obj \u003d project.get_recipe(recipe[\u0027name\u0027])\n        settings \u003d recipe_obj.get_settings()\n        if settings.get_code_env_settings()[\"envMode\"] \u003d\u003d \u0027EXPLICIT_ENV\u0027:\n            print(recipe[\u0027name\u0027], \"has\", settings.get_code_env_settings()[\"envName\"], \"code env\")\n        else:\n            print(recipe[\u0027name\u0027], \"has\", settings.get_code_env_settings()[\"envMode\"], \"code env\")"
      ],
      "outputs": []
    },
    {
      "execution_count": 0,
      "cell_type": "code",
      "metadata": {},
      "source": [
        "from sklearn.metrics import precision_score, recall_score, f1_score, classification_report, confusion_matrix, ConfusionMatrixDisplay"
      ],
      "outputs": []
    },
    {
      "execution_count": 0,
      "cell_type": "code",
      "metadata": {},
      "source": [
        "import python_utils\nhelp(\"python_utils\")"
      ],
      "outputs": []
    },
    {
      "execution_count": 0,
      "cell_type": "code",
      "metadata": {},
      "source": [
        "import utils\n\nhelp(\"utils\")"
      ],
      "outputs": []
    },
    {
      "execution_count": 0,
      "cell_type": "code",
      "metadata": {},
      "source": [
        ""
      ],
      "outputs": []
    }
  ]
}