{
  "metadata": {
    "kernelspec": {
      "name": "python3",
      "display_name": "Python 3",
      "language": "python"
    },
    "creator": "admin",
    "createdOn": 1674082760343,
    "tags": [],
    "customFields": {},
    "hide_input": false,
    "language_info": {
      "name": "python",
      "version": "3.6.8",
      "mimetype": "text/x-python",
      "codemirror_mode": {
        "name": "ipython",
        "version": 3
      },
      "pygments_lexer": "ipython3",
      "nbconvert_exporter": "python",
      "file_extension": ".py"
    },
    "modifiedBy": "admin"
  },
  "nbformat": 4,
  "nbformat_minor": 1,
  "cells": [
    {
      "execution_count": 0,
      "cell_type": "code",
      "metadata": {},
      "source": [
        "library(dataiku)"
      ],
      "outputs": []
    },
    {
      "execution_count": 0,
      "cell_type": "code",
      "metadata": {},
      "source": [
        "# Example: load a DSS dataset as a R dataframe\nmydataset \u003c- dkuReadDataset(\"mydataset\", samplingMethod\u003d\"head\", nbRows\u003d100000)"
      ],
      "outputs": []
    },
    {
      "execution_count": 1,
      "cell_type": "code",
      "metadata": {},
      "source": [
        "url \u003c- \"http://cran.us.r-project.org/src/contrib/Archive/RcppEigen/RcppEigen_0.3.3.9.1.tar.gz\"\npkgFile \u003c- \"RcppEigen_0.3.3.9.1.tar.gz\"\ndownload.file(url \u003d url, destfile \u003d pkgFile)"
      ],
      "outputs": []
    },
    {
      "execution_count": 2,
      "cell_type": "code",
      "metadata": {},
      "source": [
        "install.packages(c(\"Matrix\", \"Rcpp\"), repos \u003d \"http://cran.us.r-project.org\")\n"
      ],
      "outputs": [
        {
          "output_type": "stream",
          "text": "Installing packages into ‘/home/centos/dss/code-envs/R/R_test/R.lib’\n(as ‘lib’ is unspecified)\n\nWarning message in install.packages(c(\"Matrix\", \"Rcpp\"), repos \u003d \"http://cran.us.r-project.org\"):\n“\u0027lib \u003d \"/home/centos/dss/code-envs/R/R_test/R.lib\"\u0027 is not writable”\n",
          "name": "stderr"
        },
        {
          "output_type": "error",
          "ename": "ERROR",
          "evalue": "Error in install.packages(c(\"Matrix\", \"Rcpp\"), repos \u003d \"http://cran.us.r-project.org\"): unable to install packages\n",
          "traceback": [
            "Error in install.packages(c(\"Matrix\", \"Rcpp\"), repos \u003d \"http://cran.us.r-project.org\"): unable to install packages\nTraceback:\n",
            "1. install.packages(c(\"Matrix\", \"Rcpp\"), repos \u003d \"http://cran.us.r-project.org\")",
            "2. stop(\"unable to install packages\")"
          ]
        }
      ]
    },
    {
      "execution_count": 0,
      "cell_type": "code",
      "metadata": {},
      "source": [
        ""
      ],
      "outputs": []
    }
  ]
}