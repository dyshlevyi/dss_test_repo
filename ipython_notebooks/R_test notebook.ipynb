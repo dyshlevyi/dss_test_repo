{
  "metadata": {
    "kernelspec": {
      "name": "r-dku-venv-r_env",
      "display_name": "R (env R_env)",
      "language": "R"
    },
    "creator": "admin",
    "createdOn": 1674082760343,
    "tags": [],
    "customFields": {},
    "hide_input": false,
    "language_info": {
      "name": "R",
      "codemirror_mode": "r",
      "pygments_lexer": "r",
      "mimetype": "text/x-r-source",
      "file_extension": ".r",
      "version": "3.6.0"
    },
    "modifiedBy": "admin"
  },
  "nbformat": 4,
  "nbformat_minor": 1,
  "cells": [
    {
      "execution_count": 0,
      "cell_type": "code",
      "metadata": {},
      "source": [
        "library(dataiku)"
      ],
      "outputs": []
    },
    {
      "execution_count": 0,
      "cell_type": "code",
      "metadata": {},
      "source": [
        "# Example: load a DSS dataset as a R dataframe\nmydataset \u003c- dkuReadDataset(\"mydataset\", samplingMethod\u003d\"head\", nbRows\u003d100000)"
      ],
      "outputs": []
    },
    {
      "execution_count": 0,
      "cell_type": "code",
      "metadata": {},
      "source": [
        "url \u003c- \"http://cran.us.r-project.org/src/contrib/Archive/RcppEigen/RcppEigen_0.3.3.9.1.tar.gz\"\npkgFile \u003c- \"RcppEigen_0.3.3.9.1.tar.gz\"\ndownload.file(url \u003d url, destfile \u003d pkgFile)"
      ],
      "outputs": []
    },
    {
      "execution_count": 0,
      "cell_type": "code",
      "metadata": {},
      "source": [
        "library(dataiku)\ndkuSourceLibR(\"test.R\")"
      ],
      "outputs": []
    },
    {
      "execution_count": 0,
      "cell_type": "code",
      "metadata": {},
      "source": [
        "df \u003c- mtcars\n#Data and aesthetics\npl \u003c- ggplot(data \u003d df, aes(x \u003d wt, y \u003d mpg))\n#Geometry\n#print(pl + geom_point(alpha \u003d 0.5, size \u003d 5))\n#print(pl + geom_point(aes(size \u003d hp)))\n#print(pl + geom_point(aes(size \u003d factor(cyl))))\nprint(pl + geom_point(aes(shape \u003d factor(cyl), color \u003d factor(cyl)), size \u003d 3)) # color can be a character or hex value\npl2 \u003c- pl + geom_point(aes(color \u003d hp), size \u003d 3)\npl3 \u003c- print(pl2 + scale_color_gradient(low \u003d \"blue\", high \u003d \"red\"))\nprint(pl3)\n"
      ],
      "outputs": []
    },
    {
      "execution_count": 0,
      "cell_type": "code",
      "metadata": {},
      "source": [
        ""
      ],
      "outputs": []
    }
  ]
}