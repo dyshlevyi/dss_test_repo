{
  "metadata": {
    "kernelspec": {
      "name": "python3",
      "display_name": "Python 3",
      "language": "python"
    },
    "creator": "admin",
    "createdOn": 1675629105657,
    "tags": [],
    "customFields": {},
    "language_info": {
      "name": "python",
      "version": "3.6.8",
      "mimetype": "text/x-python",
      "codemirror_mode": {
        "name": "ipython",
        "version": 3
      },
      "pygments_lexer": "ipython3",
      "nbconvert_exporter": "python",
      "file_extension": ".py"
    },
    "modifiedBy": "admin"
  },
  "nbformat": 4,
  "nbformat_minor": 1,
  "cells": [
    {
      "execution_count": 0,
      "cell_type": "code",
      "metadata": {},
      "source": [
        "%pylab inline"
      ],
      "outputs": []
    },
    {
      "execution_count": 0,
      "cell_type": "code",
      "metadata": {},
      "source": [
        "import dataiku\nfrom dataiku import pandasutils as pdu\nimport pandas as pd"
      ],
      "outputs": []
    },
    {
      "execution_count": 3,
      "cell_type": "code",
      "metadata": {},
      "source": [
        "import dataiku\n\n# client initialization:\nclient \u003d dataiku.api_client()\nproject \u003d client.get_project(\u0027CUSTOMERSCASES\u0027)\n\n# printing globally defined python code env\nprint(\"Project globally has\", project.get_settings().get_raw()[\"settings\"][\"codeEnvs\"][\"python\"][\"mode\"], \"code env\")\n\nfor recipe in project.list_recipes():\n    if recipe.type \u003d\u003d \u0027python\u0027:\n        recipe_obj \u003d project.get_recipe(recipe[\u0027name\u0027])\n        settings \u003d recipe_obj.get_settings()\n        if settings.get_code_env_settings()[\"envMode\"] \u003d\u003d \u0027EXPLICIT_ENV\u0027:\n            print(recipe[\u0027name\u0027], \"has\", settings.get_code_env_settings()[\"envName\"], \"code env\")\n        else:\n            print(recipe[\u0027name\u0027], \"has\", settings.get_code_env_settings()[\"envMode\"], \"code env\")"
      ],
      "outputs": [
        {
          "output_type": "stream",
          "text": "Project globally has INHERIT code env\ncompute_py_recipe has INHERIT code env\n",
          "name": "stdout"
        }
      ]
    },
    {
      "execution_count": 0,
      "cell_type": "code",
      "metadata": {},
      "source": [
        ""
      ],
      "outputs": []
    }
  ]
}