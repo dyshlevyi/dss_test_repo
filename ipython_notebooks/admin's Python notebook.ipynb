{
  "metadata": {
    "kernelspec": {
      "name": "py-dku-venv-py37",
      "display_name": "Python (env py37)",
      "language": "python"
    },
    "creator": "admin",
    "createdOn": 1675629105657,
    "tags": [],
    "customFields": {},
    "language_info": {
      "name": "python",
      "version": "3.7.12",
      "mimetype": "text/x-python",
      "codemirror_mode": {
        "name": "ipython",
        "version": 3
      },
      "pygments_lexer": "ipython3",
      "nbconvert_exporter": "python",
      "file_extension": ".py"
    },
    "modifiedBy": "admin",
    "hide_input": false
  },
  "nbformat": 4,
  "nbformat_minor": 1,
  "cells": [
    {
      "execution_count": 0,
      "cell_type": "code",
      "metadata": {},
      "source": [
        "%pylab inline"
      ],
      "outputs": []
    },
    {
      "execution_count": 0,
      "cell_type": "code",
      "metadata": {},
      "source": [
        "import dataiku\nfrom dataiku import pandasutils as pdu\nimport pandas as pd\nfrom pandas_profiling import ProfileReport"
      ],
      "outputs": []
    },
    {
      "execution_count": 0,
      "cell_type": "code",
      "metadata": {},
      "source": [
        "dataset \u003d dataiku.Dataset(\"CUSTOMERSCASES.auto_data_parquet\")\ndf \u003d dataset.get_dataframe()\nprofile \u003d ProfileReport(df)"
      ],
      "outputs": []
    },
    {
      "execution_count": 0,
      "cell_type": "code",
      "metadata": {},
      "source": [
        "profile.to_notebook_iframe()"
      ],
      "outputs": []
    },
    {
      "execution_count": 0,
      "cell_type": "code",
      "metadata": {},
      "source": [
        "from dataiku import insights\n\nhtml_report \u003d profile.to_html()  # Returns the HTML as a str instead of saving it to a file\ninsights.save_data(\"my-dataset-report\", html_report, content_type\u003d\"text/html\")"
      ],
      "outputs": []
    },
    {
      "execution_count": 0,
      "cell_type": "code",
      "metadata": {},
      "source": [
        "import dataiku\n\n# client initialization:\nclient \u003d dataiku.api_client()\nproject \u003d client.get_project(\u0027CUSTOMERSCASES\u0027)\n\n# printing globally defined python code env\nprint(\"Project globally has\", project.get_settings().get_raw()[\"settings\"][\"codeEnvs\"][\"python\"][\"mode\"], \"code env\")\n\nfor recipe in project.list_recipes():\n    if recipe.type \u003d\u003d \u0027python\u0027:\n        recipe_obj \u003d project.get_recipe(recipe[\u0027name\u0027])\n        settings \u003d recipe_obj.get_settings()\n        if settings.get_code_env_settings()[\"envMode\"] \u003d\u003d \u0027EXPLICIT_ENV\u0027:\n            print(recipe[\u0027name\u0027], \"has\", settings.get_code_env_settings()[\"envName\"], \"code env\")\n        else:\n            print(recipe[\u0027name\u0027], \"has\", settings.get_code_env_settings()[\"envMode\"], \"code env\")"
      ],
      "outputs": []
    },
    {
      "execution_count": 0,
      "cell_type": "code",
      "metadata": {},
      "source": [
        "!g++ --version"
      ],
      "outputs": []
    },
    {
      "execution_count": 0,
      "cell_type": "code",
      "metadata": {},
      "source": [
        "import dataiku\nclient \u003d dataiku.api_client()\nclient.get_instance_info().raw[\"dssVersion\"]"
      ],
      "outputs": []
    },
    {
      "execution_count": 0,
      "cell_type": "code",
      "metadata": {},
      "source": [
        "import dataiku\n\nclient \u003d dataiku.api_client()\n\nproject \u003d client.get_project(\"CUSTOMERSCASES\")\n\nrecipe \u003d project.get_recipe(\"compute_E09bxp88\")\nstatus \u003d recipe.get_status()\nstatus.get_selected_engine_details().get(\"type\")"
      ],
      "outputs": []
    },
    {
      "execution_count": 0,
      "cell_type": "code",
      "metadata": {},
      "source": [
        "import os\nprint(os.environ[\"PATH\"])"
      ],
      "outputs": []
    },
    {
      "execution_count": 0,
      "cell_type": "code",
      "metadata": {},
      "source": [
        ""
      ],
      "outputs": []
    }
  ]
}