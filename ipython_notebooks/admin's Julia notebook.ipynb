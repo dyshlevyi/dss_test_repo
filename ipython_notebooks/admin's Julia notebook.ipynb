{
  "metadata": {
    "celltoolbar": "Aucun(e)",
    "kernelspec": {
      "name": "julia-1.6",
      "display_name": "Julia 1.6.6",
      "language": "julia"
    },
    "language_info": {
      "file_extension": ".jl",
      "name": "julia",
      "mimetype": "application/julia",
      "version": "1.6.6"
    },
    "creator": "admin",
    "createdOn": 1682247015884,
    "tags": [],
    "customFields": {},
    "hide_input": false,
    "modifiedBy": "admin"
  },
  "nbformat": 4,
  "nbformat_minor": 1,
  "cells": [
    {
      "execution_count": 0,
      "cell_type": "code",
      "metadata": {},
      "source": [
        "using Dataiku\nimport Dataiku: get_dataframe"
      ],
      "outputs": []
    },
    {
      "execution_count": 0,
      "cell_type": "code",
      "metadata": {},
      "source": [
        "# Example: load a DSS dataset as a Julia DataFrame\nmydataset_df \u003d get_dataframe(dataset\"mydataset\")"
      ],
      "outputs": []
    },
    {
      "execution_count": 0,
      "cell_type": "code",
      "metadata": {},
      "source": [
        ""
      ],
      "outputs": []
    }
  ]
}