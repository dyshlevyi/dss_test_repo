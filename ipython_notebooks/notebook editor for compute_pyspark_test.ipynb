{
  "nbformat": 4,
  "nbformat_minor": 0,
  "metadata": {
    "kernelspec": {
      "display_name": "Python (env py36)",
      "language": "python",
      "name": "py-dku-venv-py36"
    },
    "associatedRecipe": "compute_pyspark_test",
    "creator": "admin",
    "createdOn": 1672319987786,
    "tags": [
      "recipe-editor"
    ],
    "customFields": {}
  },
  "cells": [
    {
      "cell_type": "code",
      "metadata": {},
      "outputs": [],
      "execution_count": 0,
      "source": [
        "# -*- coding: utf-8 -*-\n",
        "import dataiku\n",
        "from dataiku import spark as dkuspark\n",
        "from pyspark import SparkContext\n",
        "from pyspark.sql import SQLContext\n",
        "\n",
        "sc \u003d SparkContext.getOrCreate()\n",
        "sqlContext \u003d SQLContext(sc)\n",
        "\n",
        "# Read recipe inputs\n",
        "Inline_dataset_prepared \u003d dataiku.Dataset(\"Inline_dataset_prepared\")\n",
        "Inline_dataset_prepared_df \u003d dkuspark.get_dataframe(sqlContext, Inline_dataset_prepared)\n",
        "\n",
        "# Compute recipe outputs from inputs\n",
        "# TODO: Replace this part by your actual code that computes the output, as a SparkSQL dataframe\n",
        "pyspark_test_df \u003d Inline_dataset_prepared_df # For this sample code, simply copy input to output\n",
        "\n",
        "# Write recipe outputs\n",
        "pyspark_test \u003d dataiku.Dataset(\"pyspark_test\")\n",
        "dkuspark.write_with_schema(pyspark_test, pyspark_test_df)"
      ]
    }
  ]
}