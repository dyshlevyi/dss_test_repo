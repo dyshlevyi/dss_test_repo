{
  "metadata": {
    "kernelspec": {
      "name": "py-dku-venv-py36_test",
      "display_name": "Python (env py36_test)",
      "language": "python"
    },
    "creator": "admin",
    "createdOn": 1675190958867,
    "tags": [],
    "customFields": {},
    "language_info": {
      "name": "python",
      "version": "3.6.8",
      "mimetype": "text/x-python",
      "codemirror_mode": {
        "name": "ipython",
        "version": 3
      },
      "pygments_lexer": "ipython3",
      "nbconvert_exporter": "python",
      "file_extension": ".py"
    },
    "modifiedBy": "admin"
  },
  "nbformat": 4,
  "nbformat_minor": 1,
  "cells": [
    {
      "execution_count": 0,
      "cell_type": "code",
      "metadata": {},
      "source": [
        "%pylab inline"
      ],
      "outputs": []
    },
    {
      "execution_count": 0,
      "cell_type": "code",
      "metadata": {},
      "source": [
        "import dataiku\nfrom dataiku import pandasutils as pdu\nimport pandas as pd"
      ],
      "outputs": []
    },
    {
      "execution_count": 0,
      "cell_type": "code",
      "metadata": {},
      "source": [
        "# Example: load a DSS dataset as a Pandas dataframe\nmydataset \u003d dataiku.Dataset(\"mydataset\")\nmydataset_df \u003d mydataset.get_dataframe()"
      ],
      "outputs": []
    },
    {
      "execution_count": 1,
      "cell_type": "code",
      "metadata": {},
      "source": [
        "import os\n\nusername \u003d os.getenv(\u0027USER\u0027)\nusername"
      ],
      "outputs": [
        {
          "output_type": "execute_result",
          "execution_count": 1,
          "data": {
            "text/plain": "\u0027dssuser_admin\u0027"
          },
          "metadata": {}
        }
      ]
    },
    {
      "execution_count": 5,
      "cell_type": "code",
      "metadata": {},
      "source": [
        "import os \n\nos.environ[\"USER\"] \u003d \u0027centos\u0027\nprint(os.environ[\"USER\"])\n\nos.environ[\"HOME\"] \u003d \u0027/tmp\u0027\n\nfrom pandas_profiling import ProfileReport"
      ],
      "outputs": [
        {
          "output_type": "stream",
          "text": "centos\n",
          "name": "stdout"
        }
      ]
    },
    {
      "execution_count": 3,
      "cell_type": "code",
      "metadata": {},
      "source": [
        "import os\nhome_dir \u003d os.getenv(\"HOME\")\nappdir \u003d os.path.join(home_dir, \"test\")\nos.makedirs(appdir)"
      ],
      "outputs": []
    },
    {
      "execution_count": 4,
      "cell_type": "code",
      "metadata": {},
      "source": [
        "os.getenv(\u0027USER\u0027)"
      ],
      "outputs": [
        {
          "output_type": "execute_result",
          "execution_count": 4,
          "data": {
            "text/plain": "\u0027centos\u0027"
          },
          "metadata": {}
        }
      ]
    },
    {
      "execution_count": 1,
      "cell_type": "code",
      "metadata": {},
      "source": [
        "import platform\n\nplatform.system()\n"
      ],
      "outputs": [
        {
          "output_type": "execute_result",
          "execution_count": 1,
          "data": {
            "text/plain": "\u0027Linux\u0027"
          },
          "metadata": {}
        }
      ]
    },
    {
      "execution_count": 6,
      "cell_type": "code",
      "metadata": {},
      "source": [
        "from pandas_profiling import ProfileReport"
      ],
      "outputs": []
    },
    {
      "execution_count": 1,
      "cell_type": "code",
      "metadata": {},
      "source": [
        "import dataiku\nfrom dtaidistance import dtw\n\n# Example: load a DSS dataset as a Pandas dataframe\nmydataset \u003d dataiku.Dataset(\"py_recipe\")\nmydataset_df \u003d mydataset.get_dataframe()\ndtw.distance_matrix_fast(mydataset_df)"
      ],
      "outputs": [
        {
          "output_type": "stream",
          "text": "ERROR:be.kuleuven.dtai.distance:The compiled dtaidistance C library is not available.\nSee the documentation for alternative installation options.\n",
          "name": "stderr"
        },
        {
          "output_type": "error",
          "ename": "Exception",
          "evalue": "The compiled dtaidistance C library is not available.\nSee the documentation for alternative installation options.",
          "traceback": [
            "\u001b[0;31m---------------------------------------------------------------------------\u001b[0m",
            "\u001b[0;31mException\u001b[0m                                 Traceback (most recent call last)",
            "\u001b[0;32m\u003cipython-input-1-b78fa844f202\u003e\u001b[0m in \u001b[0;36m\u003cmodule\u003e\u001b[0;34m\u001b[0m\n\u001b[1;32m      5\u001b[0m \u001b[0mmydataset\u001b[0m \u001b[0;34m\u003d\u001b[0m \u001b[0mdataiku\u001b[0m\u001b[0;34m.\u001b[0m\u001b[0mDataset\u001b[0m\u001b[0;34m(\u001b[0m\u001b[0;34m\"py_recipe\"\u001b[0m\u001b[0;34m)\u001b[0m\u001b[0;34m\u001b[0m\u001b[0;34m\u001b[0m\u001b[0m\n\u001b[1;32m      6\u001b[0m \u001b[0mmydataset_df\u001b[0m \u001b[0;34m\u003d\u001b[0m \u001b[0mmydataset\u001b[0m\u001b[0;34m.\u001b[0m\u001b[0mget_dataframe\u001b[0m\u001b[0;34m(\u001b[0m\u001b[0;34m)\u001b[0m\u001b[0;34m\u001b[0m\u001b[0;34m\u001b[0m\u001b[0m\n\u001b[0;32m----\u003e 7\u001b[0;31m \u001b[0mdtw\u001b[0m\u001b[0;34m.\u001b[0m\u001b[0mdistance_matrix_fast\u001b[0m\u001b[0;34m(\u001b[0m\u001b[0mmydataset_df\u001b[0m\u001b[0;34m)\u001b[0m\u001b[0;34m\u001b[0m\u001b[0;34m\u001b[0m\u001b[0m\n\u001b[0m",
            "\u001b[0;32m/home/centos/dss/code-envs/python/py36_test/lib/python3.6/site-packages/dtaidistance/dtw.py\u001b[0m in \u001b[0;36mdistance_matrix_fast\u001b[0;34m(s, max_dist, use_pruning, max_length_diff, window, max_step, penalty, psi, block, compact, parallel, use_mp, only_triu)\u001b[0m\n\u001b[1;32m    926\u001b[0m     \u001b[0mthe\u001b[0m \u001b[0mparallelization\u001b[0m \u001b[0;32mis\u001b[0m \u001b[0mchanged\u001b[0m \u001b[0mto\u001b[0m \u001b[0muse\u001b[0m \u001b[0mPython\u001b[0m\u001b[0;31m\u0027\u001b[0m\u001b[0ms\u001b[0m \u001b[0mmultiprocessing\u001b[0m \u001b[0mlibrary\u001b[0m\u001b[0;34m.\u001b[0m\u001b[0;34m\u001b[0m\u001b[0;34m\u001b[0m\u001b[0m\n\u001b[1;32m    927\u001b[0m     \"\"\"\n\u001b[0;32m--\u003e 928\u001b[0;31m     \u001b[0m_check_library\u001b[0m\u001b[0;34m(\u001b[0m\u001b[0mraise_exception\u001b[0m\u001b[0;34m\u003d\u001b[0m\u001b[0;32mTrue\u001b[0m\u001b[0;34m,\u001b[0m \u001b[0minclude_omp\u001b[0m\u001b[0;34m\u003d\u001b[0m\u001b[0;32mFalse\u001b[0m\u001b[0;34m)\u001b[0m\u001b[0;34m\u001b[0m\u001b[0;34m\u001b[0m\u001b[0m\n\u001b[0m\u001b[1;32m    929\u001b[0m     \u001b[0;32mif\u001b[0m \u001b[0;32mnot\u001b[0m \u001b[0muse_mp\u001b[0m \u001b[0;32mand\u001b[0m \u001b[0mparallel\u001b[0m\u001b[0;34m:\u001b[0m\u001b[0;34m\u001b[0m\u001b[0;34m\u001b[0m\u001b[0m\n\u001b[1;32m    930\u001b[0m         \u001b[0;32mtry\u001b[0m\u001b[0;34m:\u001b[0m\u001b[0;34m\u001b[0m\u001b[0;34m\u001b[0m\u001b[0m\n",
            "\u001b[0;32m/home/centos/dss/code-envs/python/py36_test/lib/python3.6/site-packages/dtaidistance/dtw.py\u001b[0m in \u001b[0;36m_check_library\u001b[0;34m(include_omp, raise_exception)\u001b[0m\n\u001b[1;32m     92\u001b[0m         \u001b[0mlogger\u001b[0m\u001b[0;34m.\u001b[0m\u001b[0merror\u001b[0m\u001b[0;34m(\u001b[0m\u001b[0mmsg\u001b[0m\u001b[0;34m)\u001b[0m\u001b[0;34m\u001b[0m\u001b[0;34m\u001b[0m\u001b[0m\n\u001b[1;32m     93\u001b[0m         \u001b[0;32mif\u001b[0m \u001b[0mraise_exception\u001b[0m\u001b[0;34m:\u001b[0m\u001b[0;34m\u001b[0m\u001b[0;34m\u001b[0m\u001b[0m\n\u001b[0;32m---\u003e 94\u001b[0;31m             \u001b[0;32mraise\u001b[0m \u001b[0mException\u001b[0m\u001b[0;34m(\u001b[0m\u001b[0mmsg\u001b[0m\u001b[0;34m)\u001b[0m\u001b[0;34m\u001b[0m\u001b[0;34m\u001b[0m\u001b[0m\n\u001b[0m\u001b[1;32m     95\u001b[0m     \u001b[0;32mif\u001b[0m \u001b[0minclude_omp\u001b[0m \u001b[0;32mand\u001b[0m \u001b[0;34m(\u001b[0m\u001b[0mdtw_cc_omp\u001b[0m \u001b[0;32mis\u001b[0m \u001b[0;32mNone\u001b[0m \u001b[0;32mor\u001b[0m \u001b[0;32mnot\u001b[0m \u001b[0mdtw_cc_omp\u001b[0m\u001b[0;34m.\u001b[0m\u001b[0mis_openmp_supported\u001b[0m\u001b[0;34m(\u001b[0m\u001b[0;34m)\u001b[0m\u001b[0;34m)\u001b[0m\u001b[0;34m:\u001b[0m\u001b[0;34m\u001b[0m\u001b[0;34m\u001b[0m\u001b[0m\n\u001b[1;32m     96\u001b[0m         \u001b[0mmsg\u001b[0m \u001b[0;34m\u003d\u001b[0m \u001b[0;34m\"The compiled dtaidistance C-OMP library \"\u001b[0m\u001b[0;34m\u001b[0m\u001b[0;34m\u001b[0m\u001b[0m\n",
            "\u001b[0;31mException\u001b[0m: The compiled dtaidistance C library is not available.\nSee the documentation for alternative installation options."
          ]
        }
      ]
    },
    {
      "execution_count": 1,
      "cell_type": "code",
      "metadata": {},
      "source": [
        "from dtaidistance import dtw\n\ndtw.try_import_c(verbose\u003dTrue)"
      ],
      "outputs": [
        {
          "output_type": "stream",
          "text": "Cannot import OMP-based library (dtw_cc_omp)\nCannot import Numpy-based library (dtw_cc_numpy)\n\nNot all libraries are available in your installation. \nYou can rerun the compilation from source or pip install in verbose mode:\npip install -vvv --upgrade --force-reinstall --no-deps --no-binary dtaidistance dtaidistance\nIn case you need to use an older version of numpy, compile against your current installation:\npip install -vvv --upgrade --force-reinstall --no-deps --no-build-isolation --no-binary dtaidistance dtaidistance\n\nShare the following information when submitting a bug report:\n\u003d\u003d Packages \u003d\u003d\n- Cannot import OMP-based library (dtw_cc_omp)\n- cannot import name \u0027dtw_cc_omp\u0027\n- Cannot import Numpy-based library (dtw_cc_numpy)\n- cannot import name \u0027dtw_cc_numpy\u0027\n- Numpy version: 1.19.5\n- Matplotlib version: 3.3.4\n- Scipy version: 1.5.4\n\u003d\u003d System information \u003d\u003d\nnamespace(_multiarch\u003d\u0027x86_64-linux-gnu\u0027, cache_tag\u003d\u0027cpython-36\u0027, hexversion\u003d50727152, name\u003d\u0027cpython\u0027, version\u003dsys.version_info(major\u003d3, minor\u003d6, micro\u003d8, releaselevel\u003d\u0027final\u0027, serial\u003d0))\n\u003d\u003d Compilation information \u003d\u003d\nCould not read compilation.log\n[Errno 2] No such file or directory: \u0027/home/centos/dss/code-envs/python/py36_test/lib/python3.6/site-packages/dtaidistance/compilation.log\u0027\n\n\u003d\u003d\n",
          "name": "stdout"
        },
        {
          "output_type": "execute_result",
          "execution_count": 1,
          "data": {
            "text/plain": "False"
          },
          "metadata": {}
        }
      ]
    },
    {
      "execution_count": 3,
      "cell_type": "code",
      "metadata": {},
      "source": [
        "!gcc --version"
      ],
      "outputs": [
        {
          "output_type": "stream",
          "text": "gcc (GCC) 4.8.5 20150623 (Red Hat 4.8.5-44)\r\nCopyright (C) 2015 Free Software Foundation, Inc.\r\nThis is free software; see the source for copying conditions.  There is NO\r\nwarranty; not even for MERCHANTABILITY or FITNESS FOR A PARTICULAR PURPOSE.\r\n\r\n",
          "name": "stdout"
        }
      ]
    },
    {
      "execution_count": 0,
      "cell_type": "code",
      "metadata": {},
      "source": [
        ""
      ],
      "outputs": []
    }
  ]
}