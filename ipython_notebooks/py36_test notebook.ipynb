{
  "metadata": {
    "kernelspec": {
      "name": "py-dku-venv-py36_test",
      "display_name": "Python (env py36_test)",
      "language": "python"
    },
    "creator": "admin",
    "createdOn": 1675190958867,
    "tags": [],
    "customFields": {},
    "language_info": {
      "name": "python",
      "version": "3.6.8",
      "mimetype": "text/x-python",
      "codemirror_mode": {
        "name": "ipython",
        "version": 3
      },
      "pygments_lexer": "ipython3",
      "nbconvert_exporter": "python",
      "file_extension": ".py"
    },
    "modifiedBy": "admin"
  },
  "nbformat": 4,
  "nbformat_minor": 1,
  "cells": [
    {
      "execution_count": 0,
      "cell_type": "code",
      "metadata": {},
      "source": [
        "%pylab inline"
      ],
      "outputs": []
    },
    {
      "execution_count": 0,
      "cell_type": "code",
      "metadata": {},
      "source": [
        "import dataiku\nfrom dataiku import pandasutils as pdu\nimport pandas as pd"
      ],
      "outputs": []
    },
    {
      "execution_count": 0,
      "cell_type": "code",
      "metadata": {},
      "source": [
        "# Example: load a DSS dataset as a Pandas dataframe\nmydataset \u003d dataiku.Dataset(\"mydataset\")\nmydataset_df \u003d mydataset.get_dataframe()"
      ],
      "outputs": []
    },
    {
      "execution_count": 1,
      "cell_type": "code",
      "metadata": {},
      "source": [
        "import os\n\nusername \u003d os.getenv(\u0027USER\u0027)\nusername"
      ],
      "outputs": [
        {
          "output_type": "execute_result",
          "execution_count": 1,
          "data": {
            "text/plain": "\u0027dssuser_admin\u0027"
          },
          "metadata": {}
        }
      ]
    },
    {
      "execution_count": 5,
      "cell_type": "code",
      "metadata": {},
      "source": [
        "import os \n\nos.environ[\"USER\"] \u003d \u0027centos\u0027\nprint(os.environ[\"USER\"])\n\nos.environ[\"HOME\"] \u003d \u0027/tmp\u0027\n\nfrom pandas_profiling import ProfileReport"
      ],
      "outputs": [
        {
          "output_type": "stream",
          "text": "centos\n",
          "name": "stdout"
        }
      ]
    },
    {
      "execution_count": 3,
      "cell_type": "code",
      "metadata": {},
      "source": [
        "import os\nhome_dir \u003d os.getenv(\"HOME\")\nappdir \u003d os.path.join(home_dir, \"test\")\nos.makedirs(appdir)"
      ],
      "outputs": []
    },
    {
      "execution_count": 4,
      "cell_type": "code",
      "metadata": {},
      "source": [
        "os.getenv(\u0027USER\u0027)"
      ],
      "outputs": [
        {
          "output_type": "execute_result",
          "execution_count": 4,
          "data": {
            "text/plain": "\u0027centos\u0027"
          },
          "metadata": {}
        }
      ]
    },
    {
      "execution_count": 1,
      "cell_type": "code",
      "metadata": {},
      "source": [
        "import platform\n\nplatform.system()\n"
      ],
      "outputs": [
        {
          "output_type": "execute_result",
          "execution_count": 1,
          "data": {
            "text/plain": "\u0027Linux\u0027"
          },
          "metadata": {}
        }
      ]
    },
    {
      "execution_count": 6,
      "cell_type": "code",
      "metadata": {},
      "source": [
        "from pandas_profiling import ProfileReport"
      ],
      "outputs": []
    },
    {
      "execution_count": 3,
      "cell_type": "code",
      "metadata": {},
      "source": [
        "import dataiku\nfrom dtaidistance import dtw\n\n# Example: load a DSS dataset as a Pandas dataframe\nmydataset \u003d dataiku.Dataset(\"py_recipe\")\nmydataset_df \u003d mydataset.get_dataframe()\ndtw.distance_matrix_fast(mydataset_df)"
      ],
      "outputs": [
        {
          "output_type": "error",
          "ename": "TypeError",
          "evalue": "a bytes-like object is required, not \u0027DataFrame\u0027",
          "traceback": [
            "\u001b[0;31m---------------------------------------------------------------------------\u001b[0m",
            "\u001b[0;31mTypeError\u001b[0m                                 Traceback (most recent call last)",
            "\u001b[0;32m\u003cipython-input-3-b78fa844f202\u003e\u001b[0m in \u001b[0;36m\u003cmodule\u003e\u001b[0;34m\u001b[0m\n\u001b[1;32m      5\u001b[0m \u001b[0mmydataset\u001b[0m \u001b[0;34m\u003d\u001b[0m \u001b[0mdataiku\u001b[0m\u001b[0;34m.\u001b[0m\u001b[0mDataset\u001b[0m\u001b[0;34m(\u001b[0m\u001b[0;34m\"py_recipe\"\u001b[0m\u001b[0;34m)\u001b[0m\u001b[0;34m\u001b[0m\u001b[0;34m\u001b[0m\u001b[0m\n\u001b[1;32m      6\u001b[0m \u001b[0mmydataset_df\u001b[0m \u001b[0;34m\u003d\u001b[0m \u001b[0mmydataset\u001b[0m\u001b[0;34m.\u001b[0m\u001b[0mget_dataframe\u001b[0m\u001b[0;34m(\u001b[0m\u001b[0;34m)\u001b[0m\u001b[0;34m\u001b[0m\u001b[0;34m\u001b[0m\u001b[0m\n\u001b[0;32m----\u003e 7\u001b[0;31m \u001b[0mdtw\u001b[0m\u001b[0;34m.\u001b[0m\u001b[0mdistance_matrix_fast\u001b[0m\u001b[0;34m(\u001b[0m\u001b[0mmydataset_df\u001b[0m\u001b[0;34m)\u001b[0m\u001b[0;34m\u001b[0m\u001b[0;34m\u001b[0m\u001b[0m\n\u001b[0m",
            "\u001b[0;32m/home/centos/dss/code-envs/python/py36_test/lib64/python3.6/site-packages/dtaidistance/dtw.py\u001b[0m in \u001b[0;36mdistance_matrix_fast\u001b[0;34m(s, max_dist, use_pruning, max_length_diff, window, max_step, penalty, psi, block, compact, parallel, use_mp, only_triu)\u001b[0m\n\u001b[1;32m    937\u001b[0m                            \u001b[0mblock\u001b[0m\u001b[0;34m\u003d\u001b[0m\u001b[0mblock\u001b[0m\u001b[0;34m,\u001b[0m \u001b[0mcompact\u001b[0m\u001b[0;34m\u003d\u001b[0m\u001b[0mcompact\u001b[0m\u001b[0;34m,\u001b[0m \u001b[0mparallel\u001b[0m\u001b[0;34m\u003d\u001b[0m\u001b[0mparallel\u001b[0m\u001b[0;34m,\u001b[0m\u001b[0;34m\u001b[0m\u001b[0;34m\u001b[0m\u001b[0m\n\u001b[1;32m    938\u001b[0m                            \u001b[0muse_c\u001b[0m\u001b[0;34m\u003d\u001b[0m\u001b[0;32mTrue\u001b[0m\u001b[0;34m,\u001b[0m \u001b[0muse_mp\u001b[0m\u001b[0;34m\u003d\u001b[0m\u001b[0muse_mp\u001b[0m\u001b[0;34m,\u001b[0m \u001b[0mshow_progress\u001b[0m\u001b[0;34m\u003d\u001b[0m\u001b[0;32mFalse\u001b[0m\u001b[0;34m,\u001b[0m\u001b[0;34m\u001b[0m\u001b[0;34m\u001b[0m\u001b[0m\n\u001b[0;32m--\u003e 939\u001b[0;31m                            only_triu\u003donly_triu)\n\u001b[0m\u001b[1;32m    940\u001b[0m \u001b[0;34m\u001b[0m\u001b[0m\n\u001b[1;32m    941\u001b[0m \u001b[0;34m\u001b[0m\u001b[0m\n",
            "\u001b[0;32m/home/centos/dss/code-envs/python/py36_test/lib64/python3.6/site-packages/dtaidistance/dtw.py\u001b[0m in \u001b[0;36mdistance_matrix\u001b[0;34m(s, max_dist, use_pruning, max_length_diff, window, max_step, penalty, psi, block, compact, parallel, use_c, use_mp, show_progress, only_triu)\u001b[0m\n\u001b[1;32m    759\u001b[0m         \u001b[0mlogger\u001b[0m\u001b[0;34m.\u001b[0m\u001b[0minfo\u001b[0m\u001b[0;34m(\u001b[0m\u001b[0;34m\"Compute distances in C (parallel\u003dOMP)\"\u001b[0m\u001b[0;34m)\u001b[0m\u001b[0;34m\u001b[0m\u001b[0;34m\u001b[0m\u001b[0m\n\u001b[1;32m    760\u001b[0m         \u001b[0mdist_opts\u001b[0m\u001b[0;34m[\u001b[0m\u001b[0;34m\u0027block\u0027\u001b[0m\u001b[0;34m]\u001b[0m \u001b[0;34m\u003d\u001b[0m \u001b[0mblock\u001b[0m\u001b[0;34m\u001b[0m\u001b[0;34m\u001b[0m\u001b[0m\n\u001b[0;32m--\u003e 761\u001b[0;31m         \u001b[0mdists\u001b[0m \u001b[0;34m\u003d\u001b[0m \u001b[0mdtw_cc_omp\u001b[0m\u001b[0;34m.\u001b[0m\u001b[0mdistance_matrix\u001b[0m\u001b[0;34m(\u001b[0m\u001b[0ms\u001b[0m\u001b[0;34m,\u001b[0m \u001b[0;34m**\u001b[0m\u001b[0mdist_opts\u001b[0m\u001b[0;34m)\u001b[0m\u001b[0;34m\u001b[0m\u001b[0;34m\u001b[0m\u001b[0m\n\u001b[0m\u001b[1;32m    762\u001b[0m \u001b[0;34m\u001b[0m\u001b[0m\n\u001b[1;32m    763\u001b[0m     \u001b[0;32melif\u001b[0m \u001b[0muse_c\u001b[0m \u001b[0;32mand\u001b[0m \u001b[0mparallel\u001b[0m \u001b[0;32mand\u001b[0m \u001b[0;34m(\u001b[0m\u001b[0mdtw_cc_omp\u001b[0m \u001b[0;32mis\u001b[0m \u001b[0;32mNone\u001b[0m \u001b[0;32mor\u001b[0m \u001b[0muse_mp\u001b[0m\u001b[0;34m)\u001b[0m\u001b[0;34m:\u001b[0m\u001b[0;34m\u001b[0m\u001b[0;34m\u001b[0m\u001b[0m\n",
            "\u001b[0;32m/home/centos/dss/code-envs/python/py36_test/lib64/python3.6/site-packages/dtaidistance/dtw_cc_omp.pyx\u001b[0m in \u001b[0;36mdtaidistance.dtw_cc_omp.distance_matrix\u001b[0;34m()\u001b[0m\n",
            "\u001b[0;32m/home/centos/dss/code-envs/python/py36_test/lib64/python3.6/site-packages/dtaidistance/util.py\u001b[0m in \u001b[0;36mc_data_compat\u001b[0;34m(self)\u001b[0m\n\u001b[1;32m    272\u001b[0m             \u001b[0;32melse\u001b[0m\u001b[0;34m:\u001b[0m\u001b[0;34m\u001b[0m\u001b[0;34m\u001b[0m\u001b[0m\n\u001b[1;32m    273\u001b[0m                 \u001b[0;32mreturn\u001b[0m \u001b[0mdtw_cc_numpy\u001b[0m\u001b[0;34m.\u001b[0m\u001b[0mdtw_series_from_numpy\u001b[0m\u001b[0;34m(\u001b[0m\u001b[0mself\u001b[0m\u001b[0;34m.\u001b[0m\u001b[0mseries\u001b[0m\u001b[0;34m)\u001b[0m\u001b[0;34m\u001b[0m\u001b[0;34m\u001b[0m\u001b[0m\n\u001b[0;32m--\u003e 274\u001b[0;31m         \u001b[0;32mreturn\u001b[0m \u001b[0mdtw_cc\u001b[0m\u001b[0;34m.\u001b[0m\u001b[0mdtw_series_from_data\u001b[0m\u001b[0;34m(\u001b[0m\u001b[0mself\u001b[0m\u001b[0;34m.\u001b[0m\u001b[0mseries\u001b[0m\u001b[0;34m)\u001b[0m\u001b[0;34m\u001b[0m\u001b[0;34m\u001b[0m\u001b[0m\n\u001b[0m\u001b[1;32m    275\u001b[0m \u001b[0;34m\u001b[0m\u001b[0m\n\u001b[1;32m    276\u001b[0m     \u001b[0;32mdef\u001b[0m \u001b[0mget_max_y\u001b[0m\u001b[0;34m(\u001b[0m\u001b[0mself\u001b[0m\u001b[0;34m)\u001b[0m\u001b[0;34m:\u001b[0m\u001b[0;34m\u001b[0m\u001b[0;34m\u001b[0m\u001b[0m\n",
            "\u001b[0;32m/home/centos/dss/code-envs/python/py36_test/lib64/python3.6/site-packages/dtaidistance/dtw_cc.pyx\u001b[0m in \u001b[0;36mdtaidistance.dtw_cc.dtw_series_from_data\u001b[0;34m()\u001b[0m\n",
            "\u001b[0;32m/home/centos/dss/code-envs/python/py36_test/lib64/python3.6/site-packages/dtaidistance/dtw_cc.pyx\u001b[0m in \u001b[0;36mdtaidistance.dtw_cc.DTWSeriesMatrix.__cinit__\u001b[0;34m()\u001b[0m\n",
            "\u001b[0;32m/home/centos/dss/code-envs/python/py36_test/lib64/python3.6/site-packages/dtaidistance/dtw_cc.cpython-36m-x86_64-linux-gnu.so\u001b[0m in \u001b[0;36mView.MemoryView.memoryview_cwrapper\u001b[0;34m()\u001b[0m\n",
            "\u001b[0;32m/home/centos/dss/code-envs/python/py36_test/lib64/python3.6/site-packages/dtaidistance/dtw_cc.cpython-36m-x86_64-linux-gnu.so\u001b[0m in \u001b[0;36mView.MemoryView.memoryview.__cinit__\u001b[0;34m()\u001b[0m\n",
            "\u001b[0;31mTypeError\u001b[0m: a bytes-like object is required, not \u0027DataFrame\u0027"
          ]
        }
      ]
    },
    {
      "execution_count": 2,
      "cell_type": "code",
      "metadata": {},
      "source": [
        "from dtaidistance import dtw\n\ndtw.try_import_c(verbose\u003dTrue)"
      ],
      "outputs": [
        {
          "output_type": "stream",
          "text": "All ok ...\n\u003d\u003d Packages \u003d\u003d\n- Numpy version: 1.19.5\n- Matplotlib version: 3.3.4\n- Scipy version: 1.5.4\n\u003d\u003d System information \u003d\u003d\nnamespace(_multiarch\u003d\u0027x86_64-linux-gnu\u0027, cache_tag\u003d\u0027cpython-36\u0027, hexversion\u003d50727152, name\u003d\u0027cpython\u0027, version\u003dsys.version_info(major\u003d3, minor\u003d6, micro\u003d8, releaselevel\u003d\u0027final\u0027, serial\u003d0))\n\u003d\u003d Compilation information \u003d\u003d\nCompiler type: unix\n--noopenmp: 0\n--forceopenmp: 0\n--noxpreprocessor: 0\n--forcellvm: 0\n--forcegnugcc: 0\n--forcestatic: 0\nCython found (during compilation)\n- Version: 0.29.33\n- Locations: \u003cmodule \u0027Cython\u0027 from \u0027/tmp/pip-build-env-bh0mu8hq/overlay/lib64/python3.6/site-packages/Cython/__init__.py\u0027\u003e\nNumpy found (during compilation):\n- Version: 1.19.5\n- Location: \u003cmodule \u0027numpy\u0027 from \u0027/tmp/pip-build-env-bh0mu8hq/overlay/lib64/python3.6/site-packages/numpy/__init__.py\u0027\u003e\nChecking if gcc redirects to clang\ngcc --version # with stdout\u003d-1, stderr\u003d-1, input\u003d, encoding\u003dascii\n\nUsing GNU GCC settings (gcc)\nChecking for OpenMP availability for gcc\ngcc -dM -E -Xpreprocessor -fopenmp - # with stdout\u003d-1, stderr\u003d-1, input\u003d, encoding\u003dascii\n\n#define _OPENMP 201511\n... found OpenMP\nAll extensions:\n[\u003csetuptools.extension.Extension(\u0027dtaidistance.dtw_cc\u0027) at 0x7f3178c63c50\u003e, \u003csetuptools.extension.Extension(\u0027dtaidistance.ed_cc\u0027) at 0x7f3178bcf5c0\u003e, \u003csetuptools.extension.Extension(\u0027dtaidistance.dtw_cc_omp\u0027) at 0x7f3178bcf6a0\u003e, \u003csetuptools.extension.Extension(\u0027dtaidistance.dtw_cc_numpy\u0027) at 0x7f3178bd6240\u003e]\n\n\n\u003d\u003d\n",
          "name": "stdout"
        },
        {
          "output_type": "execute_result",
          "execution_count": 2,
          "data": {
            "text/plain": "True"
          },
          "metadata": {}
        }
      ]
    },
    {
      "execution_count": 1,
      "cell_type": "code",
      "metadata": {},
      "source": [
        "!gcc --version"
      ],
      "outputs": [
        {
          "output_type": "stream",
          "text": "gcc (GCC) 8.3.1 20190311 (Red Hat 8.3.1-3)\r\nCopyright (C) 2018 Free Software Foundation, Inc.\r\nThis is free software; see the source for copying conditions.  There is NO\r\nwarranty; not even for MERCHANTABILITY or FITNESS FOR A PARTICULAR PURPOSE.\r\n\r\n",
          "name": "stdout"
        }
      ]
    },
    {
      "execution_count": 0,
      "cell_type": "code",
      "metadata": {},
      "source": [
        ""
      ],
      "outputs": []
    }
  ]
}