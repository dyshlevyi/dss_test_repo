{
  "metadata": {
    "kernelspec": {
      "name": "py-dku-venv-py39",
      "display_name": "Python (env py39)",
      "language": "python"
    },
    "creator": "admin",
    "createdOn": 1676921998406,
    "tags": [],
    "customFields": {},
    "hide_input": false,
    "language_info": {
      "name": "python",
      "version": "3.9.12",
      "mimetype": "text/x-python",
      "codemirror_mode": {
        "name": "ipython",
        "version": 3
      },
      "pygments_lexer": "ipython3",
      "nbconvert_exporter": "python",
      "file_extension": ".py"
    },
    "modifiedBy": "admin"
  },
  "nbformat": 4,
  "nbformat_minor": 1,
  "cells": [
    {
      "execution_count": 0,
      "cell_type": "code",
      "metadata": {},
      "source": [
        "%pylab inline"
      ],
      "outputs": []
    },
    {
      "execution_count": 0,
      "cell_type": "code",
      "metadata": {},
      "source": [
        "import dataiku\nimport dataiku.spark as dkuspark\nimport pyspark\nfrom pyspark.sql import SQLContext"
      ],
      "outputs": []
    },
    {
      "execution_count": 0,
      "cell_type": "code",
      "metadata": {},
      "source": [
        "# Load PySpark\nsc \u003d pyspark.SparkContext.getOrCreate()\nsqlContext \u003d SQLContext(sc)"
      ],
      "outputs": []
    },
    {
      "execution_count": 0,
      "cell_type": "code",
      "metadata": {},
      "source": [
        "# Example: Read the descriptor of a Dataiku dataset\nmydataset \u003d dataiku.Dataset(\"mydataset\")\n# And read it as a Spark dataframe\ndf \u003d dkuspark.get_dataframe(sqlContext, mydataset)"
      ],
      "outputs": []
    },
    {
      "execution_count": 0,
      "cell_type": "code",
      "metadata": {},
      "source": [
        "# Example: Get the count of records in the dataframe\ndf.count()"
      ],
      "outputs": []
    }
  ]
}