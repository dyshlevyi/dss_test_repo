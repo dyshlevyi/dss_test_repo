{
  "metadata": {
    "createdOn": 1672125243910,
    "creator": "admin",
    "customFields": {},
    "hide_input": false,
    "kernelspec": {
      "name": "py-dku-venv-py36",
      "display_name": "Python (env py36)",
      "language": "python"
    },
    "language_info": {
      "name": "python",
      "version": "3.6.8",
      "mimetype": "text/x-python",
      "codemirror_mode": {
        "name": "ipython",
        "version": 3
      },
      "pygments_lexer": "ipython3",
      "nbconvert_exporter": "python",
      "file_extension": ".py"
    },
    "modifiedBy": "admin",
    "tags": []
  },
  "nbformat": 4,
  "nbformat_minor": 1,
  "cells": [
    {
      "execution_count": 0,
      "cell_type": "code",
      "metadata": {},
      "source": [
        "%pylab inline"
      ],
      "outputs": []
    },
    {
      "execution_count": 0,
      "cell_type": "code",
      "metadata": {},
      "source": [
        "import dataiku\nfrom dataiku import pandasutils as pdu\nimport pandas as pd"
      ],
      "outputs": []
    },
    {
      "execution_count": 0,
      "cell_type": "code",
      "metadata": {},
      "source": [
        "# Example: load a DSS dataset as a Pandas dataframe\nmydataset \u003d dataiku.Dataset(\"mydataset\")\nmydataset_df \u003d mydataset.get_dataframe()"
      ],
      "outputs": []
    },
    {
      "execution_count": 5,
      "cell_type": "code",
      "metadata": {},
      "source": [
        "import dataiku\n\n# client initialization:\nclient \u003d dataiku.api_client()\n\n# setting variables:\nconn_name \u003d \"postgresql\"\n\n# getting connection details:\nconn \u003d client.get_connection(conn_name)\ndecrypted_pass \u003d conn.get_info()[\"params\"][\u0027password\u0027]\nprint(decrypted_pass)"
      ],
      "outputs": [
        {
          "output_type": "stream",
          "text": "dataiku\n",
          "name": "stdout"
        }
      ]
    },
    {
      "execution_count": 0,
      "cell_type": "code",
      "metadata": {},
      "source": [
        ""
      ],
      "outputs": []
    }
  ]
}