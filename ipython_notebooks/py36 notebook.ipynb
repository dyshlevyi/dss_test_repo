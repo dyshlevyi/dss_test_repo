{
  "metadata": {
    "createdOn": 1672125243910,
    "creator": "admin",
    "customFields": {},
    "hide_input": false,
    "kernelspec": {
      "name": "py-dku-venv-py36",
      "display_name": "Python (env py36)",
      "language": "python"
    },
    "language_info": {
      "name": "python",
      "version": "3.6.8",
      "mimetype": "text/x-python",
      "codemirror_mode": {
        "name": "ipython",
        "version": 3
      },
      "pygments_lexer": "ipython3",
      "nbconvert_exporter": "python",
      "file_extension": ".py"
    },
    "modifiedBy": "admin",
    "tags": []
  },
  "nbformat": 4,
  "nbformat_minor": 1,
  "cells": [
    {
      "execution_count": 0,
      "cell_type": "code",
      "metadata": {},
      "source": [
        "%pylab inline"
      ],
      "outputs": []
    },
    {
      "execution_count": 0,
      "cell_type": "code",
      "metadata": {},
      "source": [
        "import dataiku\nfrom dataiku import pandasutils as pdu\nimport pandas as pd"
      ],
      "outputs": []
    },
    {
      "execution_count": 0,
      "cell_type": "code",
      "metadata": {},
      "source": [
        "# Example: load a DSS dataset as a Pandas dataframe\nmydataset \u003d dataiku.Dataset(\"mydataset\")\nmydataset_df \u003d mydataset.get_dataframe()"
      ],
      "outputs": []
    },
    {
      "execution_count": 0,
      "cell_type": "code",
      "metadata": {},
      "source": [
        "import dataiku\n\n# client initialization:\nclient \u003d dataiku.api_client().get_connection(\"postgresql\")\nconn.get_info()[\"params\"][\u0027password\u0027]"
      ],
      "outputs": []
    },
    {
      "execution_count": 0,
      "cell_type": "code",
      "metadata": {},
      "source": [
        "conn \u003d dataiku.api_client().get_connection(\"postgresql\")\nconn.get_location_info()[\"params\"][\"password\"]"
      ],
      "outputs": []
    },
    {
      "execution_count": 18,
      "cell_type": "code",
      "metadata": {},
      "source": [
        "import dataiku\nimport datetime\n\n# client initialization:\nclient \u003d dataiku.api_client()\n\nproject_key \u003d \"CUSTOMERSCASES\"\nproject \u003d client.get_project(project_key)\nproject_info \u003d project.get_timeline()\n# print(project_info[\"items\"][0])\n\nmofification_time \u003d project_info[\"items\"][0][\"time\"]\ndate_time \u003d datetime.datetime.fromtimestamp(mofification_time/1000)\nprint(\"Project\", project_key, \"was updated last on\", date_time, \"by user\", project_info[\"items\"][0][\"user\"])"
      ],
      "outputs": [
        {
          "output_type": "stream",
          "text": "Project CUSTOMERSCASES was updated last on 2023-01-04 07:34:16.126000 by user admin\n",
          "name": "stdout"
        }
      ]
    },
    {
      "execution_count": 0,
      "cell_type": "code",
      "metadata": {},
      "source": [
        ""
      ],
      "outputs": []
    }
  ]
}