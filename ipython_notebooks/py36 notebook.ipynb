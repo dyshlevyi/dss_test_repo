{
  "metadata": {
    "createdOn": 1672125243910,
    "creator": "admin",
    "customFields": {},
    "hide_input": false,
    "kernelspec": {
      "name": "py-dku-venv-py36",
      "display_name": "Python (env py36)",
      "language": "python"
    },
    "language_info": {
      "name": "python",
      "version": "3.6.8",
      "mimetype": "text/x-python",
      "codemirror_mode": {
        "name": "ipython",
        "version": 3
      },
      "pygments_lexer": "ipython3",
      "nbconvert_exporter": "python",
      "file_extension": ".py"
    },
    "modifiedBy": "admin",
    "tags": []
  },
  "nbformat": 4,
  "nbformat_minor": 1,
  "cells": [
    {
      "execution_count": 0,
      "cell_type": "code",
      "metadata": {},
      "source": [
        "%pylab inline"
      ],
      "outputs": []
    },
    {
      "execution_count": 0,
      "cell_type": "code",
      "metadata": {},
      "source": [
        "import dataiku\nfrom dataiku import pandasutils as pdu\nimport pandas as pd"
      ],
      "outputs": []
    },
    {
      "execution_count": 0,
      "cell_type": "code",
      "metadata": {},
      "source": [
        "# Example: load a DSS dataset as a Pandas dataframe\nmydataset \u003d dataiku.Dataset(\"mydataset\")\nmydataset_df \u003d mydataset.get_dataframe()"
      ],
      "outputs": []
    },
    {
      "execution_count": 0,
      "cell_type": "code",
      "metadata": {},
      "source": [
        "import dataiku\n\n# client initialization:\nclient \u003d dataiku.api_client().get_connection(\"postgresql\")\nconn.get_info()[\"params\"][\u0027password\u0027]"
      ],
      "outputs": []
    },
    {
      "execution_count": 0,
      "cell_type": "code",
      "metadata": {},
      "source": [
        "conn \u003d dataiku.api_client().get_connection(\"postgresql\")\nconn.get_location_info()[\"params\"][\"password\"]"
      ],
      "outputs": []
    },
    {
      "execution_count": 10,
      "cell_type": "code",
      "metadata": {},
      "source": [
        "import dataiku\nimport datetime\n\n# client initialization:\nclient \u003d dataiku.api_client()\n\nproject_key \u003d \"CUSTOMERSCASES\"\nproject \u003d client.get_project(project_key)\nproject_info \u003d project.get_timeline()\nprint(project_info[\"items\"][0])"
      ],
      "outputs": [
        {
          "output_type": "stream",
          "text": "{\u0027user\u0027: \u0027admin\u0027, \u0027action\u0027: \u0027JUPYTER_NOTEBOOK_EDIT\u0027, \u0027projectKey\u0027: \u0027CUSTOMERSCASES\u0027, \u0027objectType\u0027: \u0027JUPYTER_NOTEBOOK\u0027, \u0027objectId\u0027: \u0027py36 notebook\u0027, \u0027details\u0027: {\u0027objectDisplayName\u0027: \u0027py36 notebook\u0027, \u0027userDisplayName\u0027: \u0027Administrator\u0027}, \u0027time\u0027: 1672817656126}\n",
          "name": "stdout"
        }
      ]
    },
    {
      "execution_count": 0,
      "cell_type": "code",
      "metadata": {},
      "source": [
        ""
      ],
      "outputs": []
    }
  ]
}