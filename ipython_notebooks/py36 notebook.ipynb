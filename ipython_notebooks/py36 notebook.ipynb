{
  "metadata": {
    "createdOn": 1672125243910,
    "creator": "admin",
    "customFields": {},
    "hide_input": false,
    "kernelspec": {
      "name": "py-dku-venv-py36",
      "display_name": "Python (env py36)",
      "language": "python"
    },
    "language_info": {
      "name": "python",
      "version": "3.6.8",
      "mimetype": "text/x-python",
      "codemirror_mode": {
        "name": "ipython",
        "version": 3
      },
      "pygments_lexer": "ipython3",
      "nbconvert_exporter": "python",
      "file_extension": ".py"
    },
    "modifiedBy": "admin",
    "tags": []
  },
  "nbformat": 4,
  "nbformat_minor": 1,
  "cells": [
    {
      "execution_count": 0,
      "cell_type": "code",
      "metadata": {},
      "source": [
        "%pylab inline"
      ],
      "outputs": []
    },
    {
      "execution_count": 0,
      "cell_type": "code",
      "metadata": {},
      "source": [
        "import dataiku\nfrom dataiku import pandasutils as pdu\nimport pandas as pd"
      ],
      "outputs": []
    },
    {
      "execution_count": 0,
      "cell_type": "code",
      "metadata": {},
      "source": [
        "# Example: load a DSS dataset as a Pandas dataframe\nmydataset \u003d dataiku.Dataset(\"mydataset\")\nmydataset_df \u003d mydataset.get_dataframe()"
      ],
      "outputs": []
    },
    {
      "execution_count": 0,
      "cell_type": "code",
      "metadata": {},
      "source": [
        "import dataiku\n\n# client initialization:\nclient \u003d dataiku.api_client().get_connection(\"postgresql\")\nconn.get_info()[\"params\"][\u0027password\u0027]"
      ],
      "outputs": []
    },
    {
      "execution_count": 0,
      "cell_type": "code",
      "metadata": {},
      "source": [
        "conn \u003d dataiku.api_client().get_connection(\"postgresql\")\nconn.get_location_info()[\"params\"][\"password\"]"
      ],
      "outputs": []
    },
    {
      "execution_count": 7,
      "cell_type": "code",
      "metadata": {},
      "source": [
        "import dataiku\nimport datetime\n\n# client initialization:\nclient \u003d dataiku.api_client()\n\nproject_key \u003d \"CUSTOMERSCASES\"\nproject \u003d client.get_project(project_key)\nproject_info \u003d project.get_timeline()\nprint(project_info[\"items\"])"
      ],
      "outputs": [
        {
          "output_type": "stream",
          "text": "[{\u0027user\u0027: \u0027dataiku\u0027, \u0027action\u0027: \u0027RECIPE_EDIT\u0027, \u0027projectKey\u0027: \u0027CUSTOMERSCASES\u0027, \u0027objectType\u0027: \u0027RECIPE\u0027, \u0027objectId\u0027: \u0027compute_pyspark_test\u0027, \u0027details\u0027: {\u0027objectDisplayName\u0027: \u0027compute_pyspark_test\u0027, \u0027recipeType\u0027: \u0027pyspark\u0027, \u0027userDisplayName\u0027: \u0027dataiku\u0027}, \u0027time\u0027: 1672817279896}, {\u0027user\u0027: \u0027dataiku\u0027, \u0027action\u0027: \u0027RECIPE_EDIT\u0027, \u0027projectKey\u0027: \u0027CUSTOMERSCASES\u0027, \u0027objectType\u0027: \u0027RECIPE\u0027, \u0027objectId\u0027: \u0027compute_pyspark_test_prepared\u0027, \u0027details\u0027: {\u0027objectDisplayName\u0027: \u0027compute_pyspark_test_prepared\u0027, \u0027recipeType\u0027: \u0027shaker\u0027, \u0027userDisplayName\u0027: \u0027dataiku\u0027}, \u0027time\u0027: 1672817181655}, {\u0027user\u0027: \u0027admin\u0027, \u0027action\u0027: \u0027PROJECT_EDIT\u0027, \u0027projectKey\u0027: \u0027CUSTOMERSCASES\u0027, \u0027objectType\u0027: \u0027PROJECT\u0027, \u0027objectId\u0027: \u0027CUSTOMERSCASES\u0027, \u0027details\u0027: {\u0027objectDisplayName\u0027: \u0027Customers Cases\u0027, \u0027userDisplayName\u0027: \u0027Administrator\u0027}, \u0027time\u0027: 1672817178547}, {\u0027user\u0027: \u0027admin\u0027, \u0027action\u0027: \u0027RECIPE_EDIT\u0027, \u0027projectKey\u0027: \u0027CUSTOMERSCASES\u0027, \u0027objectType\u0027: \u0027RECIPE\u0027, \u0027objectId\u0027: \u0027compute_pyspark_test_prepared\u0027, \u0027details\u0027: {\u0027objectDisplayName\u0027: \u0027compute_pyspark_test_prepared\u0027, \u0027recipeType\u0027: \u0027shaker\u0027, \u0027userDisplayName\u0027: \u0027Administrator\u0027}, \u0027time\u0027: 1672566255046}, {\u0027user\u0027: \u0027admin\u0027, \u0027action\u0027: \u0027RECIPE_CREATE\u0027, \u0027projectKey\u0027: \u0027CUSTOMERSCASES\u0027, \u0027objectType\u0027: \u0027RECIPE\u0027, \u0027objectId\u0027: \u0027compute_pyspark_test_prepared\u0027, \u0027details\u0027: {\u0027objectDisplayName\u0027: \u0027compute_pyspark_test_prepared\u0027, \u0027recipeType\u0027: \u0027shaker\u0027, \u0027userDisplayName\u0027: \u0027Administrator\u0027}, \u0027time\u0027: 1672566250454}, {\u0027user\u0027: \u0027admin\u0027, \u0027action\u0027: \u0027DATASET_CREATE\u0027, \u0027projectKey\u0027: \u0027CUSTOMERSCASES\u0027, \u0027objectType\u0027: \u0027DATASET\u0027, \u0027objectId\u0027: \u0027pyspark_test_prepared\u0027, \u0027details\u0027: {\u0027objectDisplayName\u0027: \u0027pyspark_test_prepared\u0027, \u0027datasetType\u0027: \u0027PostgreSQL\u0027, \u0027userDisplayName\u0027: \u0027Administrator\u0027}, \u0027time\u0027: 1672566250447}, {\u0027user\u0027: \u0027admin\u0027, \u0027action\u0027: \u0027JUPYTER_NOTEBOOK_EDIT\u0027, \u0027projectKey\u0027: \u0027CUSTOMERSCASES\u0027, \u0027objectType\u0027: \u0027JUPYTER_NOTEBOOK\u0027, \u0027objectId\u0027: \u0027notebook editor for compute_scenario_generation_scenarios_with_values_df_spark (1)\u0027, \u0027details\u0027: {\u0027objectDisplayName\u0027: \u0027notebook editor for compute_scenario_generation_scenarios_with_values_df_spark (1)\u0027, \u0027userDisplayName\u0027: \u0027Administrator\u0027}, \u0027time\u0027: 1672320456675}, {\u0027user\u0027: \u0027admin\u0027, \u0027action\u0027: \u0027JUPYTER_NOTEBOOK_CREATE\u0027, \u0027projectKey\u0027: \u0027CUSTOMERSCASES\u0027, \u0027objectType\u0027: \u0027JUPYTER_NOTEBOOK\u0027, \u0027objectId\u0027: \u0027notebook editor for compute_scenario_generation_scenarios_with_values_df_spark (1)\u0027, \u0027details\u0027: {\u0027objectDisplayName\u0027: \u0027notebook editor for compute_scenario_generation_scenarios_with_values_df_spark (1)\u0027, \u0027userDisplayName\u0027: \u0027Administrator\u0027}, \u0027time\u0027: 1672320350540}, {\u0027user\u0027: \u0027admin\u0027, \u0027action\u0027: \u0027JUPYTER_NOTEBOOK_EDIT\u0027, \u0027projectKey\u0027: \u0027CUSTOMERSCASES\u0027, \u0027objectType\u0027: \u0027JUPYTER_NOTEBOOK\u0027, \u0027objectId\u0027: \u0027notebook editor for compute_pyspark_test\u0027, \u0027details\u0027: {\u0027objectDisplayName\u0027: \u0027notebook editor for compute_pyspark_test\u0027, \u0027userDisplayName\u0027: \u0027Administrator\u0027}, \u0027time\u0027: 1672320060104}, {\u0027user\u0027: \u0027admin\u0027, \u0027action\u0027: \u0027JUPYTER_NOTEBOOK_CREATE\u0027, \u0027projectKey\u0027: \u0027CUSTOMERSCASES\u0027, \u0027objectType\u0027: \u0027JUPYTER_NOTEBOOK\u0027, \u0027objectId\u0027: \u0027notebook editor for compute_pyspark_test\u0027, \u0027details\u0027: {\u0027objectDisplayName\u0027: \u0027notebook editor for compute_pyspark_test\u0027, \u0027userDisplayName\u0027: \u0027Administrator\u0027}, \u0027time\u0027: 1672319987812}, {\u0027user\u0027: \u0027admin\u0027, \u0027action\u0027: \u0027RECIPE_EDIT\u0027, \u0027projectKey\u0027: \u0027CUSTOMERSCASES\u0027, \u0027objectType\u0027: \u0027RECIPE\u0027, \u0027objectId\u0027: \u0027compute_pyspark_test\u0027, \u0027details\u0027: {\u0027objectDisplayName\u0027: \u0027compute_pyspark_test\u0027, \u0027recipeType\u0027: \u0027pyspark\u0027, \u0027userDisplayName\u0027: \u0027Administrator\u0027}, \u0027time\u0027: 1672319930636}, {\u0027user\u0027: \u0027admin\u0027, \u0027action\u0027: \u0027RECIPE_CREATE\u0027, \u0027projectKey\u0027: \u0027CUSTOMERSCASES\u0027, \u0027objectType\u0027: \u0027RECIPE\u0027, \u0027objectId\u0027: \u0027compute_pyspark_test\u0027, \u0027details\u0027: {\u0027objectDisplayName\u0027: \u0027compute_pyspark_test\u0027, \u0027recipeType\u0027: \u0027pyspark\u0027, \u0027userDisplayName\u0027: \u0027Administrator\u0027}, \u0027time\u0027: 1672319917019}, {\u0027user\u0027: \u0027admin\u0027, \u0027action\u0027: \u0027DATASET_CREATE\u0027, \u0027projectKey\u0027: \u0027CUSTOMERSCASES\u0027, \u0027objectType\u0027: \u0027DATASET\u0027, \u0027objectId\u0027: \u0027pyspark_test\u0027, \u0027details\u0027: {\u0027objectDisplayName\u0027: \u0027pyspark_test\u0027, \u0027datasetType\u0027: \u0027Filesystem\u0027, \u0027userDisplayName\u0027: \u0027Administrator\u0027}, \u0027time\u0027: 1672319915394}, {\u0027user\u0027: \u0027admin\u0027, \u0027action\u0027: \u0027JUPYTER_NOTEBOOK_EDIT\u0027, \u0027projectKey\u0027: \u0027CUSTOMERSCASES\u0027, \u0027objectType\u0027: \u0027JUPYTER_NOTEBOOK\u0027, \u0027objectId\u0027: \u0027py36 notebook\u0027, \u0027details\u0027: {\u0027objectDisplayName\u0027: \u0027py36 notebook\u0027, \u0027userDisplayName\u0027: \u0027Administrator\u0027}, \u0027time\u0027: 1672259457270}, {\u0027user\u0027: \u0027admin\u0027, \u0027action\u0027: \u0027DATASET_EDIT\u0027, \u0027projectKey\u0027: \u0027CUSTOMERSCASES\u0027, \u0027objectType\u0027: \u0027DATASET\u0027, \u0027objectId\u0027: \u0027Inline_dataset_prepared\u0027, \u0027details\u0027: {\u0027objectDisplayName\u0027: \u0027Inline_dataset_prepared\u0027, \u0027datasetType\u0027: \u0027Filesystem\u0027, \u0027userDisplayName\u0027: \u0027Administrator\u0027}, \u0027time\u0027: 1672158906663}, {\u0027user\u0027: \u0027admin\u0027, \u0027action\u0027: \u0027RECIPE_EDIT\u0027, \u0027projectKey\u0027: \u0027CUSTOMERSCASES\u0027, \u0027objectType\u0027: \u0027RECIPE\u0027, \u0027objectId\u0027: \u0027compute_Inline_dataset_prepared\u0027, \u0027details\u0027: {\u0027objectDisplayName\u0027: \u0027compute_Inline_dataset_prepared\u0027, \u0027recipeType\u0027: \u0027shaker\u0027, \u0027userDisplayName\u0027: \u0027Administrator\u0027}, \u0027time\u0027: 1672139607736}, {\u0027user\u0027: \u0027admin\u0027, \u0027action\u0027: \u0027RECIPE_CREATE\u0027, \u0027projectKey\u0027: \u0027CUSTOMERSCASES\u0027, \u0027objectType\u0027: \u0027RECIPE\u0027, \u0027objectId\u0027: \u0027compute_Inline_dataset_prepared\u0027, \u0027details\u0027: {\u0027objectDisplayName\u0027: \u0027compute_Inline_dataset_prepared\u0027, \u0027recipeType\u0027: \u0027shaker\u0027, \u0027userDisplayName\u0027: \u0027Administrator\u0027}, \u0027time\u0027: 1672139603913}, {\u0027user\u0027: \u0027admin\u0027, \u0027action\u0027: \u0027DATASET_CREATE\u0027, \u0027projectKey\u0027: \u0027CUSTOMERSCASES\u0027, \u0027objectType\u0027: \u0027DATASET\u0027, \u0027objectId\u0027: \u0027Inline_dataset_prepared\u0027, \u0027details\u0027: {\u0027objectDisplayName\u0027: \u0027Inline_dataset_prepared\u0027, \u0027datasetType\u0027: \u0027Filesystem\u0027, \u0027userDisplayName\u0027: \u0027Administrator\u0027}, \u0027time\u0027: 1672139603900}, {\u0027user\u0027: \u0027admin\u0027, \u0027action\u0027: \u0027DATASET_EDIT\u0027, \u0027projectKey\u0027: \u0027CUSTOMERSCASES\u0027, \u0027objectType\u0027: \u0027DATASET\u0027, \u0027objectId\u0027: \u0027Inline_dataset\u0027, \u0027details\u0027: {\u0027objectDisplayName\u0027: \u0027Inline_dataset\u0027, \u0027datasetType\u0027: \u0027Inline\u0027, \u0027userDisplayName\u0027: \u0027Administrator\u0027}, \u0027time\u0027: 1672139590491}, {\u0027user\u0027: \u0027admin\u0027, \u0027action\u0027: \u0027DATASET_CREATE\u0027, \u0027projectKey\u0027: \u0027CUSTOMERSCASES\u0027, \u0027objectType\u0027: \u0027DATASET\u0027, \u0027objectId\u0027: \u0027Inline_dataset\u0027, \u0027details\u0027: {\u0027objectDisplayName\u0027: \u0027Inline_dataset\u0027, \u0027datasetType\u0027: \u0027Inline\u0027, \u0027userDisplayName\u0027: \u0027Administrator\u0027}, \u0027time\u0027: 1672139590485}, {\u0027user\u0027: \u0027dataiku\u0027, \u0027action\u0027: \u0027WEB_APP_EDIT\u0027, \u0027projectKey\u0027: \u0027CUSTOMERSCASES\u0027, \u0027objectType\u0027: \u0027WEB_APP\u0027, \u0027objectId\u0027: \u0027bs6LCAP\u0027, \u0027details\u0027: {\u0027objectDisplayName\u0027: \u0027shiny\u0027, \u0027webappType\u0027: \u0027SHINY\u0027, \u0027userDisplayName\u0027: \u0027dataiku\u0027}, \u0027time\u0027: 1672137134996}, {\u0027user\u0027: \u0027admin\u0027, \u0027action\u0027: \u0027PROJECT_EDIT\u0027, \u0027projectKey\u0027: \u0027CUSTOMERSCASES\u0027, \u0027objectType\u0027: \u0027PROJECT\u0027, \u0027objectId\u0027: \u0027CUSTOMERSCASES\u0027, \u0027details\u0027: {\u0027objectDisplayName\u0027: \u0027Customers Cases\u0027, \u0027userDisplayName\u0027: \u0027Administrator\u0027}, \u0027time\u0027: 1672137096804}, {\u0027user\u0027: \u0027admin\u0027, \u0027action\u0027: \u0027WEB_APP_CREATE\u0027, \u0027projectKey\u0027: \u0027CUSTOMERSCASES\u0027, \u0027objectType\u0027: \u0027WEB_APP\u0027, \u0027objectId\u0027: \u0027bs6LCAP\u0027, \u0027details\u0027: {\u0027objectDisplayName\u0027: \u0027shiny\u0027, \u0027webappType\u0027: \u0027SHINY\u0027, \u0027userDisplayName\u0027: \u0027Administrator\u0027}, \u0027time\u0027: 1672136636712}, {\u0027user\u0027: \u0027admin\u0027, \u0027action\u0027: \u0027WEB_APP_CREATE\u0027, \u0027projectKey\u0027: \u0027CUSTOMERSCASES\u0027, \u0027objectType\u0027: \u0027WEB_APP\u0027, \u0027objectId\u0027: \u0027vDkXotw\u0027, \u0027details\u0027: {\u0027objectDisplayName\u0027: \u0027bokeh\u0027, \u0027webappType\u0027: \u0027BOKEH\u0027, \u0027userDisplayName\u0027: \u0027Administrator\u0027}, \u0027time\u0027: 1672136558929}, {\u0027user\u0027: \u0027admin\u0027, \u0027action\u0027: \u0027JUPYTER_NOTEBOOK_EDIT\u0027, \u0027projectKey\u0027: \u0027CUSTOMERSCASES\u0027, \u0027objectType\u0027: \u0027JUPYTER_NOTEBOOK\u0027, \u0027objectId\u0027: \u0027py36 notebook\u0027, \u0027details\u0027: {\u0027objectDisplayName\u0027: \u0027py36 notebook\u0027, \u0027userDisplayName\u0027: \u0027Administrator\u0027}, \u0027time\u0027: 1672125365505}, {\u0027user\u0027: \u0027admin\u0027, \u0027action\u0027: \u0027JUPYTER_NOTEBOOK_CREATE\u0027, \u0027projectKey\u0027: \u0027CUSTOMERSCASES\u0027, \u0027objectType\u0027: \u0027JUPYTER_NOTEBOOK\u0027, \u0027objectId\u0027: \u0027py36 notebook\u0027, \u0027details\u0027: {\u0027objectDisplayName\u0027: \u0027py36 notebook\u0027, \u0027userDisplayName\u0027: \u0027Administrator\u0027}, \u0027time\u0027: 1672125243945}, {\u0027user\u0027: \u0027admin\u0027, \u0027action\u0027: \u0027LAMBDA_SERVICE_PACKAGE\u0027, \u0027projectKey\u0027: \u0027CUSTOMERSCASES\u0027, \u0027objectType\u0027: \u0027LAMBDA_SERVICE\u0027, \u0027objectId\u0027: \u0027Ticket_42149\u0027, \u0027details\u0027: {\u0027packageId\u0027: \u0027v1\u0027, \u0027location\u0027: \u0027/home/centos/dss/apinode-packages/CUSTOMERSCASES/Ticket_42149/v1\u0027, \u0027endpoints\u0027: [{\u0027id\u0027: \u0027R_function\u0027, \u0027type\u0027: \u0027R_FUNCTION\u0027}], \u0027objectDisplayName\u0027: \u0027Ticket_42149\u0027, \u0027userDisplayName\u0027: \u0027Administrator\u0027}, \u0027time\u0027: 1672082474638}, {\u0027user\u0027: \u0027admin\u0027, \u0027action\u0027: \u0027LAMBDA_SERVICE_EDIT\u0027, \u0027projectKey\u0027: \u0027CUSTOMERSCASES\u0027, \u0027objectType\u0027: \u0027LAMBDA_SERVICE\u0027, \u0027objectId\u0027: \u0027Ticket_42149\u0027, \u0027details\u0027: {\u0027objectDisplayName\u0027: \u0027Ticket_42149\u0027, \u0027userDisplayName\u0027: \u0027Administrator\u0027}, \u0027time\u0027: 1672082469668}, {\u0027user\u0027: \u0027admin\u0027, \u0027action\u0027: \u0027LAMBDA_SERVICE_PACKAGE\u0027, \u0027projectKey\u0027: \u0027CUSTOMERSCASES\u0027, \u0027objectType\u0027: \u0027LAMBDA_SERVICE\u0027, \u0027objectId\u0027: \u0027Ticket_42149\u0027, \u0027details\u0027: {\u0027packageId\u0027: \u0027Ticket_421498400937725055817894\u0027, \u0027location\u0027: \u0027/home/centos/dss/tmp/apinode-devserver-package/Ticket_421498400937725055817894\u0027, \u0027endpoints\u0027: [{\u0027id\u0027: \u0027R_function\u0027, \u0027type\u0027: \u0027R_FUNCTION\u0027}], \u0027objectDisplayName\u0027: \u0027Ticket_42149\u0027, \u0027userDisplayName\u0027: \u0027Administrator\u0027}, \u0027time\u0027: 1672082464228}, {\u0027user\u0027: \u0027admin\u0027, \u0027action\u0027: \u0027LAMBDA_SERVICE_EDIT\u0027, \u0027projectKey\u0027: \u0027CUSTOMERSCASES\u0027, \u0027objectType\u0027: \u0027LAMBDA_SERVICE\u0027, \u0027objectId\u0027: \u0027Ticket_42149\u0027, \u0027details\u0027: {\u0027objectDisplayName\u0027: \u0027Ticket_42149\u0027, \u0027userDisplayName\u0027: \u0027Administrator\u0027}, \u0027time\u0027: 1672082386944}, {\u0027user\u0027: \u0027admin\u0027, \u0027action\u0027: \u0027LAMBDA_SERVICE_CREATE\u0027, \u0027projectKey\u0027: \u0027CUSTOMERSCASES\u0027, \u0027objectType\u0027: \u0027LAMBDA_SERVICE\u0027, \u0027objectId\u0027: \u0027Ticket_42149\u0027, \u0027details\u0027: {\u0027objectDisplayName\u0027: \u0027Ticket_42149\u0027, \u0027userDisplayName\u0027: \u0027Administrator\u0027}, \u0027time\u0027: 1672082374445}, {\u0027user\u0027: \u0027admin\u0027, \u0027action\u0027: \u0027DASHBOARD_CREATE\u0027, \u0027projectKey\u0027: \u0027CUSTOMERSCASES\u0027, \u0027objectType\u0027: \u0027DASHBOARD\u0027, \u0027objectId\u0027: \u0027itXXRQI\u0027, \u0027details\u0027: {\u0027objectDisplayName\u0027: \"Customers Cases\u0027s default dashboard\", \u0027userDisplayName\u0027: \u0027Administrator\u0027}, \u0027time\u0027: 1671727079744}, {\u0027user\u0027: \u0027admin\u0027, \u0027action\u0027: \u0027PROJECT_CREATE\u0027, \u0027projectKey\u0027: \u0027CUSTOMERSCASES\u0027, \u0027objectType\u0027: \u0027PROJECT\u0027, \u0027objectId\u0027: \u0027CUSTOMERSCASES\u0027, \u0027details\u0027: {\u0027objectDisplayName\u0027: \u0027Customers Cases\u0027, \u0027userDisplayName\u0027: \u0027Administrator\u0027}, \u0027time\u0027: 1671727079733}]\n",
          "name": "stdout"
        }
      ]
    },
    {
      "execution_count": 0,
      "cell_type": "code",
      "metadata": {},
      "source": [
        ""
      ],
      "outputs": []
    }
  ]
}